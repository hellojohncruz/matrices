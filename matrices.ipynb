{
 "cells": [
  {
   "cell_type": "markdown",
   "id": "2e2aafd1-eb7c-4ea3-b827-1e7531b9bb99",
   "metadata": {},
   "source": [
    "# Matrix Arithmetic"
   ]
  },
  {
   "cell_type": "code",
   "execution_count": 1,
   "id": "8b488688-647d-4207-9aea-da462aab9550",
   "metadata": {},
   "outputs": [],
   "source": [
    "import numpy as np"
   ]
  },
  {
   "cell_type": "code",
   "execution_count": 2,
   "id": "380e229b-9499-4436-b75f-0a62d0b0d805",
   "metadata": {},
   "outputs": [
    {
     "name": "stdout",
     "output_type": "stream",
     "text": [
      "[[1 2 3]\n",
      " [4 5 6]]\n"
     ]
    }
   ],
   "source": [
    "# create a (2x3) matrix\n",
    "A = np.array([[1, 2, 3], [4, 5, 6]])\n",
    "\n",
    "#print matrix\n",
    "print(A)"
   ]
  },
  {
   "cell_type": "markdown",
   "id": "1f9f5979-69f0-4f12-b65e-ea0805663e24",
   "metadata": {},
   "source": [
    "## Matrix Arithmetic\n",
    "$C=A+B$\n",
    "- Must have same dimensions"
   ]
  },
  {
   "cell_type": "code",
   "execution_count": 3,
   "id": "ce05c1b7-a553-40ce-a01c-0540b5b0b0f9",
   "metadata": {},
   "outputs": [
    {
     "name": "stdout",
     "output_type": "stream",
     "text": [
      "Matrix A\n",
      "[[1 2 3]\n",
      " [4 5 6]]\n",
      "\n",
      "\n",
      "Matrix B\n",
      "[[1 2 3]\n",
      " [4 5 6]]\n",
      "\n",
      "\n",
      "Matrices A + B\n",
      "[[ 2  4  6]\n",
      " [ 8 10 12]]\n"
     ]
    }
   ],
   "source": [
    "# define first matrix\n",
    "A = np.array([\n",
    "[1, 2, 3],\n",
    "[4, 5, 6]])\n",
    "print('Matrix A')\n",
    "print(A)\n",
    "print('\\n')\n",
    "\n",
    "# define second matrix\n",
    "B = np.array([\n",
    "[1, 2, 3],\n",
    "[4, 5, 6]])\n",
    "print('Matrix B')\n",
    "print(B)\n",
    "print('\\n')\n",
    "\n",
    "# add matrices\n",
    "C = A + B\n",
    "print('Matrices A + B')\n",
    "print(C)"
   ]
  },
  {
   "cell_type": "markdown",
   "id": "0b1babbd-0053-4912-a4dc-8f84f669ed1d",
   "metadata": {},
   "source": [
    "## Matrix Subtraction\n",
    "$C=A-B$"
   ]
  },
  {
   "cell_type": "code",
   "execution_count": 4,
   "id": "644bc4ca-9270-41bb-b35d-d5e9420deed1",
   "metadata": {},
   "outputs": [
    {
     "name": "stdout",
     "output_type": "stream",
     "text": [
      "Matrix A\n",
      "[[1 2 3]\n",
      " [4 5 6]]\n",
      "\n",
      "\n",
      "Matrix B\n",
      "[[0.5 2.7 3. ]\n",
      " [4.9 3.2 1. ]]\n",
      "\n",
      "\n",
      "Matrices A - B\n",
      "[[ 0.5 -0.7  0. ]\n",
      " [-0.9  1.8  5. ]]\n"
     ]
    }
   ],
   "source": [
    "# define first matrix\n",
    "A = np.array([\n",
    "[1, 2, 3],\n",
    "[4, 5, 6]])\n",
    "print('Matrix A')\n",
    "print(A)\n",
    "print('\\n')\n",
    "\n",
    "# define second matrix\n",
    "B = np.array([\n",
    "[0.5, 2.7, 3],\n",
    "[4.9, 3.2, 1]])\n",
    "print('Matrix B')\n",
    "print(B)\n",
    "print('\\n')\n",
    "\n",
    "# subtract matrices\n",
    "C = A - B\n",
    "print('Matrices A - B')\n",
    "print(C)"
   ]
  },
  {
   "cell_type": "markdown",
   "id": "79442373-9516-4c4e-a6d4-8f7e9b5df9ea",
   "metadata": {},
   "source": [
    "## Matrix Multiplication (Hadamard Product)\n",
    "$C = A ◦ B$"
   ]
  },
  {
   "cell_type": "code",
   "execution_count": 5,
   "id": "b3042fe2-02fd-4337-adf9-41d72bc6e7be",
   "metadata": {},
   "outputs": [
    {
     "name": "stdout",
     "output_type": "stream",
     "text": [
      "Matrix A\n",
      "[[1 2 3]\n",
      " [4 5 6]]\n",
      "\n",
      "\n",
      "Matrix B\n",
      "[[1 2 3]\n",
      " [4 5 6]]\n",
      "\n",
      "\n",
      "Matrices A * B\n",
      "[[ 1  4  9]\n",
      " [16 25 36]]\n"
     ]
    }
   ],
   "source": [
    "# define first matrix\n",
    "A = np.array([\n",
    "[1, 2, 3],\n",
    "[4, 5, 6]])\n",
    "print('Matrix A')\n",
    "print(A)\n",
    "print('\\n')\n",
    "\n",
    "# define second matrix\n",
    "B = np.array([\n",
    "[1, 2, 3],\n",
    "[4, 5, 6]])\n",
    "print('Matrix B')\n",
    "print(B)\n",
    "print('\\n')\n",
    "\n",
    "# multiply matrices\n",
    "C = A * B\n",
    "print('Matrices A * B')\n",
    "print(C)"
   ]
  },
  {
   "cell_type": "markdown",
   "id": "3d9cc579-8679-46fd-8b26-69200208ab77",
   "metadata": {},
   "source": [
    "## Matrix Division\n",
    "$C = \\frac {A}{B}$"
   ]
  },
  {
   "cell_type": "code",
   "execution_count": 6,
   "id": "79bf9f79-313a-4aab-9f3c-9ad50f573d61",
   "metadata": {},
   "outputs": [
    {
     "name": "stdout",
     "output_type": "stream",
     "text": [
      "Matrix A\n",
      "[[1 2 3]\n",
      " [4 5 6]]\n",
      "\n",
      "\n",
      "Matrix B\n",
      "[[1 2 3]\n",
      " [4 5 6]]\n",
      "\n",
      "\n",
      "Matrices A * B\n",
      "[[1. 1. 1.]\n",
      " [1. 1. 1.]]\n"
     ]
    }
   ],
   "source": [
    "# define first matrix\n",
    "A = np.array([\n",
    "[1, 2, 3],\n",
    "[4, 5, 6]])\n",
    "print('Matrix A')\n",
    "print(A)\n",
    "print('\\n')\n",
    "\n",
    "# define second matrix\n",
    "B = np.array([\n",
    "[1, 2, 3],\n",
    "[4, 5, 6]])\n",
    "print('Matrix B')\n",
    "print(B)\n",
    "print('\\n')\n",
    "\n",
    "# divide matrices\n",
    "C = A / B\n",
    "print('Matrices A * B')\n",
    "print(C)"
   ]
  },
  {
   "cell_type": "markdown",
   "id": "0e6347d4-8ceb-4faf-ad9c-d829e7d09ebe",
   "metadata": {},
   "source": [
    "## Matrix Dot Product\n",
    "$C=AB$\n",
    "- The number of columns in the first matrix (A) must equal the number of rows in the second matrix (B)."
   ]
  },
  {
   "cell_type": "code",
   "execution_count": 7,
   "id": "3a08f062-65c9-4f4c-abe8-b02ffef841d8",
   "metadata": {},
   "outputs": [
    {
     "name": "stdout",
     "output_type": "stream",
     "text": [
      "Matrix A\n",
      "[[1 2]\n",
      " [3 4]\n",
      " [5 6]]\n",
      "\n",
      "\n",
      "Matrix A\n",
      "[[1 2]\n",
      " [3 4]]\n",
      "\n",
      "\n",
      "Matrix A Dot B\n",
      "[[ 7 10]\n",
      " [15 22]\n",
      " [23 34]]\n",
      "\n",
      "\n",
      "Alternate Method A@B \n",
      "[[ 7 10]\n",
      " [15 22]\n",
      " [23 34]]\n",
      "\n",
      "\n"
     ]
    }
   ],
   "source": [
    "# define first matrix\n",
    "A = np.array([\n",
    "[1, 2],\n",
    "[3, 4],\n",
    "[5, 6]])\n",
    "print('Matrix A')\n",
    "print(A)\n",
    "print('\\n')\n",
    "\n",
    "# define second matrix\n",
    "B = np.array([\n",
    "[1, 2],\n",
    "[3, 4]])\n",
    "print('Matrix A')\n",
    "print(B)\n",
    "print('\\n')\n",
    "\n",
    "# multiply matrices\n",
    "C = A.dot(B)\n",
    "print('Matrix A Dot B')\n",
    "print(C)\n",
    "print('\\n')\n",
    "\n",
    "# Alternatively multiply matrices with @ operator\n",
    "D = A @ B\n",
    "print('Alternate Method A@B ')\n",
    "print(D)\n",
    "print('\\n')"
   ]
  },
  {
   "cell_type": "markdown",
   "id": "4143f3b7-80ab-4915-9527-b270b272fa55",
   "metadata": {},
   "source": [
    "## Matrix Vector Multiplication\n",
    "$c=Av$\n",
    "- The number of columns in the matrix must equal the number of items in the vector"
   ]
  },
  {
   "cell_type": "code",
   "execution_count": 8,
   "id": "ed526cb3-1348-4b35-bec7-7b94cbd9b115",
   "metadata": {},
   "outputs": [
    {
     "name": "stdout",
     "output_type": "stream",
     "text": [
      "Matrix A\n",
      "[[1 2]\n",
      " [3 4]\n",
      " [5 6]]\n",
      "\n",
      "\n",
      "Vector v\n",
      "[2 1]\n",
      "\n",
      "\n",
      "Matrix A Dot Vector v\n",
      "[ 4 10 16]\n",
      "\n",
      "\n"
     ]
    }
   ],
   "source": [
    "# define first matrix\n",
    "A = np.array([\n",
    "[1, 2],\n",
    "[3, 4],\n",
    "[5, 6]])\n",
    "print('Matrix A')\n",
    "print(A)\n",
    "print('\\n')\n",
    "\n",
    "# define vector\n",
    "v = np.array([2,1])\n",
    "print('Vector v')\n",
    "print(v)\n",
    "print('\\n')\n",
    "\n",
    "# multiply matrices\n",
    "c = A.dot(v)\n",
    "print('Matrix A Dot Vector v')\n",
    "print(c)\n",
    "print('\\n')"
   ]
  },
  {
   "cell_type": "markdown",
   "id": "0e34f124-3ac6-413a-ae74-d1bd0b4be20e",
   "metadata": {},
   "source": [
    "## Matrix-Scalar Multiplication\n",
    "$C = Ab$"
   ]
  },
  {
   "cell_type": "code",
   "execution_count": 9,
   "id": "5d7fcfdc-2a01-4426-a4e8-4564df5ae0e1",
   "metadata": {},
   "outputs": [
    {
     "name": "stdout",
     "output_type": "stream",
     "text": [
      "Matrix A\n",
      "[[1 2]\n",
      " [3 4]\n",
      " [5 6]]\n",
      "\n",
      "\n",
      "Scalar b\n",
      "0.5\n",
      "\n",
      "\n",
      "Matrix A * Scalar b\n",
      "[[0.5 1. ]\n",
      " [1.5 2. ]\n",
      " [2.5 3. ]]\n",
      "\n",
      "\n"
     ]
    }
   ],
   "source": [
    "# define first matrix\n",
    "A = np.array([\n",
    "[1, 2],\n",
    "[3, 4],\n",
    "[5, 6]])\n",
    "print('Matrix A')\n",
    "print(A)\n",
    "print('\\n')\n",
    "\n",
    "# define scalar\n",
    "b = 0.5\n",
    "print('Scalar b')\n",
    "print(b)\n",
    "print('\\n')\n",
    "\n",
    "# multiply matrices\n",
    "c = A*b\n",
    "print('Matrix A * Scalar b')\n",
    "print(c)\n",
    "print('\\n')"
   ]
  },
  {
   "cell_type": "code",
   "execution_count": null,
   "id": "495ceb90-8788-4aa2-9e2b-a764dbd8f2e5",
   "metadata": {},
   "outputs": [],
   "source": []
  }
 ],
 "metadata": {
  "kernelspec": {
   "display_name": "Python 3 (ipykernel)",
   "language": "python",
   "name": "python3"
  },
  "language_info": {
   "codemirror_mode": {
    "name": "ipython",
    "version": 3
   },
   "file_extension": ".py",
   "mimetype": "text/x-python",
   "name": "python",
   "nbconvert_exporter": "python",
   "pygments_lexer": "ipython3",
   "version": "3.8.5"
  }
 },
 "nbformat": 4,
 "nbformat_minor": 5
}
